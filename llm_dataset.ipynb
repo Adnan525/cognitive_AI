{
 "cells": [
  {
   "cell_type": "code",
   "execution_count": 46,
   "id": "41307787",
   "metadata": {},
   "outputs": [],
   "source": [
    "from flask import Flask, request, jsonify\n",
    "import openai"
   ]
  },
  {
   "cell_type": "code",
   "execution_count": 47,
   "id": "39f4e150",
   "metadata": {},
   "outputs": [],
   "source": [
    "# $5 will generate 15000 explanations"
   ]
  },
  {
   "cell_type": "code",
   "execution_count": 48,
   "id": "88ce6e20",
   "metadata": {},
   "outputs": [],
   "source": [
    "import os\n",
    "try:\n",
    "    with open(\"openai_token.txt\", 'r') as file:\n",
    "        token = file.readline().strip()\n",
    "except FileNotFoundError:\n",
    "    print(\"File not found:\", file_path)"
   ]
  },
  {
   "cell_type": "code",
   "execution_count": 49,
   "id": "d9fb7288",
   "metadata": {},
   "outputs": [],
   "source": [
    "prompt_question = \"reply in a brief paragrph, in a chess game players took the following move/s, why? focus on the last move - \" "
   ]
  },
  {
   "cell_type": "code",
   "execution_count": 50,
   "id": "7bd640e4",
   "metadata": {},
   "outputs": [
    {
     "name": "stdout",
     "output_type": "stream",
     "text": [
      "reply in a brief paragrph, in a chess game players took the following move/s, why? focus on the last move - d4 d5 c4 c6 cxd5 e6 dxe6 fxe6 Nf3 Bb4+ Nc3\n",
      "In the given chess game, the last move made by White (Nc3) was to develop the knight to a more active square while also protecting the central pawn on d4. By advancing the knight to c3, White is preparing to castle kingside and potentially put pressure on Black's position. This move also aims to control key central squares and improve the coordination of White's pieces."
     ]
    }
   ],
   "source": [
    "from openai import OpenAI\n",
    "client = OpenAI(api_key = token)\n",
    "setup  = prompt_question + df.iloc[10][\"progressive_moves\"]\n",
    "print(setup)\n",
    "stream = client.chat.completions.create(\n",
    "    model=\"gpt-3.5-turbo-0125\",\n",
    "    messages=[{\"role\": \"user\", \"content\": setup}],\n",
    "    stream=True,\n",
    ")\n",
    "for chunk in stream:\n",
    "    if chunk.choices[0].delta.content is not None:\n",
    "        print(chunk.choices[0].delta.content, end=\"\")"
   ]
  },
  {
   "cell_type": "code",
   "execution_count": 51,
   "id": "4e2c3439",
   "metadata": {},
   "outputs": [],
   "source": [
    "import pandas as pd"
   ]
  },
  {
   "cell_type": "code",
   "execution_count": 52,
   "id": "fc2a2769",
   "metadata": {},
   "outputs": [],
   "source": [
    "df = pd.read_csv(\"large_data/progressive_moves.csv\")"
   ]
  },
  {
   "cell_type": "code",
   "execution_count": 53,
   "id": "388f4e2f",
   "metadata": {},
   "outputs": [
    {
     "data": {
      "text/html": [
       "<div>\n",
       "<style scoped>\n",
       "    .dataframe tbody tr th:only-of-type {\n",
       "        vertical-align: middle;\n",
       "    }\n",
       "\n",
       "    .dataframe tbody tr th {\n",
       "        vertical-align: top;\n",
       "    }\n",
       "\n",
       "    .dataframe thead th {\n",
       "        text-align: right;\n",
       "    }\n",
       "</style>\n",
       "<table border=\"1\" class=\"dataframe\">\n",
       "  <thead>\n",
       "    <tr style=\"text-align: right;\">\n",
       "      <th></th>\n",
       "      <th>progressive_moves</th>\n",
       "    </tr>\n",
       "  </thead>\n",
       "  <tbody>\n",
       "    <tr>\n",
       "      <th>0</th>\n",
       "      <td>d4</td>\n",
       "    </tr>\n",
       "    <tr>\n",
       "      <th>1</th>\n",
       "      <td>d4 d5</td>\n",
       "    </tr>\n",
       "    <tr>\n",
       "      <th>2</th>\n",
       "      <td>d4 d5 c4</td>\n",
       "    </tr>\n",
       "    <tr>\n",
       "      <th>3</th>\n",
       "      <td>d4 d5 c4 c6</td>\n",
       "    </tr>\n",
       "    <tr>\n",
       "      <th>4</th>\n",
       "      <td>d4 d5 c4 c6 cxd5</td>\n",
       "    </tr>\n",
       "  </tbody>\n",
       "</table>\n",
       "</div>"
      ],
      "text/plain": [
       "  progressive_moves\n",
       "0                d4\n",
       "1             d4 d5\n",
       "2          d4 d5 c4\n",
       "3       d4 d5 c4 c6\n",
       "4  d4 d5 c4 c6 cxd5"
      ]
     },
     "execution_count": 53,
     "metadata": {},
     "output_type": "execute_result"
    }
   ],
   "source": [
    "df = pd.DataFrame(df[\"progressive_moves\"])\n",
    "df.head()"
   ]
  },
  {
   "cell_type": "code",
   "execution_count": 54,
   "id": "a1ad594f",
   "metadata": {},
   "outputs": [
    {
     "data": {
      "text/plain": [
       "'d4 d5 c4 c6 cxd5 e6 dxe6 fxe6 Nf3 Bb4+ Nc3'"
      ]
     },
     "execution_count": 54,
     "metadata": {},
     "output_type": "execute_result"
    }
   ],
   "source": [
    "df.iloc[10][\"progressive_moves\"]"
   ]
  },
  {
   "cell_type": "code",
   "execution_count": 55,
   "id": "a8846f11",
   "metadata": {},
   "outputs": [
    {
     "data": {
      "text/plain": [
       "(1036294, 1)"
      ]
     },
     "execution_count": 55,
     "metadata": {},
     "output_type": "execute_result"
    }
   ],
   "source": [
    "df.shape"
   ]
  },
  {
   "cell_type": "code",
   "execution_count": 56,
   "id": "f4c3584c",
   "metadata": {},
   "outputs": [
    {
     "data": {
      "text/plain": [
       "(1036294, 2)"
      ]
     },
     "execution_count": 56,
     "metadata": {},
     "output_type": "execute_result"
    }
   ],
   "source": [
    "df[\"explanation\"] = \"\"\n",
    "df.shape"
   ]
  },
  {
   "cell_type": "code",
   "execution_count": 57,
   "id": "63e157ce",
   "metadata": {},
   "outputs": [
    {
     "data": {
      "text/html": [
       "<div>\n",
       "<style scoped>\n",
       "    .dataframe tbody tr th:only-of-type {\n",
       "        vertical-align: middle;\n",
       "    }\n",
       "\n",
       "    .dataframe tbody tr th {\n",
       "        vertical-align: top;\n",
       "    }\n",
       "\n",
       "    .dataframe thead th {\n",
       "        text-align: right;\n",
       "    }\n",
       "</style>\n",
       "<table border=\"1\" class=\"dataframe\">\n",
       "  <thead>\n",
       "    <tr style=\"text-align: right;\">\n",
       "      <th></th>\n",
       "      <th>progressive_moves</th>\n",
       "      <th>explanation</th>\n",
       "    </tr>\n",
       "  </thead>\n",
       "  <tbody>\n",
       "    <tr>\n",
       "      <th>0</th>\n",
       "      <td>d4</td>\n",
       "      <td></td>\n",
       "    </tr>\n",
       "    <tr>\n",
       "      <th>1</th>\n",
       "      <td>d4 d5</td>\n",
       "      <td></td>\n",
       "    </tr>\n",
       "    <tr>\n",
       "      <th>2</th>\n",
       "      <td>d4 d5 c4</td>\n",
       "      <td></td>\n",
       "    </tr>\n",
       "    <tr>\n",
       "      <th>3</th>\n",
       "      <td>d4 d5 c4 c6</td>\n",
       "      <td></td>\n",
       "    </tr>\n",
       "    <tr>\n",
       "      <th>4</th>\n",
       "      <td>d4 d5 c4 c6 cxd5</td>\n",
       "      <td></td>\n",
       "    </tr>\n",
       "  </tbody>\n",
       "</table>\n",
       "</div>"
      ],
      "text/plain": [
       "  progressive_moves explanation\n",
       "0                d4            \n",
       "1             d4 d5            \n",
       "2          d4 d5 c4            \n",
       "3       d4 d5 c4 c6            \n",
       "4  d4 d5 c4 c6 cxd5            "
      ]
     },
     "execution_count": 57,
     "metadata": {},
     "output_type": "execute_result"
    }
   ],
   "source": [
    "df.head()"
   ]
  },
  {
   "cell_type": "code",
   "execution_count": 58,
   "id": "822621a5",
   "metadata": {},
   "outputs": [],
   "source": [
    "# df_prompt.at[0, \"explanation\"] = \"checking\"\n",
    "# df_prompt"
   ]
  },
  {
   "cell_type": "code",
   "execution_count": null,
   "id": "d73da513",
   "metadata": {},
   "outputs": [],
   "source": [
    "for i in range(15000):\n",
    "    stream = client.chat.completions.create(\n",
    "    model=\"gpt-3.5-turbo-0125\",\n",
    "    messages=[{\"role\": \"user\", \n",
    "               \"content\": prompt_question + df.iloc[i][\"progressive_moves\"]\n",
    "              }],\n",
    "    stream=True)\n",
    "    \n",
    "    explanation = \"\"\n",
    "    for chunk in stream:\n",
    "        if chunk.choices[0].delta.content is not None:\n",
    "            explanation += chunk.choices[0].delta.content\n",
    "            \n",
    "    df.at[i, \"explanation\"] = explanation\n",
    "    \n",
    "    # every 100 will output\n",
    "    if i+1/100 == 0:\n",
    "        print(f\"{i}. {df.iloc[i]['progressive_moves']}, explanation: {explanation}\")"
   ]
  },
  {
   "cell_type": "code",
   "execution_count": null,
   "id": "4f29a9bf",
   "metadata": {},
   "outputs": [],
   "source": [
    "# df_prompt.iloc[50]"
   ]
  },
  {
   "cell_type": "code",
   "execution_count": null,
   "id": "fb714608",
   "metadata": {},
   "outputs": [],
   "source": [
    "# df_prompt.to_csv(\"few_exp.csv\")"
   ]
  },
  {
   "cell_type": "code",
   "execution_count": null,
   "id": "10760930",
   "metadata": {},
   "outputs": [],
   "source": [
    "df.to_csv(\"exp_2.csv\")"
   ]
  }
 ],
 "metadata": {
  "kernelspec": {
   "display_name": "Python 3 (ipykernel)",
   "language": "python",
   "name": "python3"
  },
  "language_info": {
   "codemirror_mode": {
    "name": "ipython",
    "version": 3
   },
   "file_extension": ".py",
   "mimetype": "text/x-python",
   "name": "python",
   "nbconvert_exporter": "python",
   "pygments_lexer": "ipython3",
   "version": "3.8.17"
  }
 },
 "nbformat": 4,
 "nbformat_minor": 5
}
