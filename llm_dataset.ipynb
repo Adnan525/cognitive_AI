{
 "cells": [
  {
   "cell_type": "code",
   "execution_count": 2,
   "id": "41307787",
   "metadata": {},
   "outputs": [],
   "source": [
    "from flask import Flask, request, jsonify\n",
    "import openai"
   ]
  },
  {
   "cell_type": "code",
   "execution_count": 3,
   "id": "39f4e150",
   "metadata": {},
   "outputs": [],
   "source": [
    "# $5 will generate 15000 explanations"
   ]
  },
  {
   "cell_type": "code",
   "execution_count": 4,
   "id": "88ce6e20",
   "metadata": {},
   "outputs": [],
   "source": [
    "import os\n",
    "try:\n",
    "    with open(\"openai_token.txt\", 'r') as file:\n",
    "        token = file.readline().strip()\n",
    "except FileNotFoundError:\n",
    "    print(\"File not found:\", file_path)"
   ]
  },
  {
   "cell_type": "code",
   "execution_count": 18,
   "id": "d9fb7288",
   "metadata": {},
   "outputs": [],
   "source": [
    "prompt_question_1 = \"in a paragraph, explain the rationale behind the last move, where all previous moves are:\"\n",
    "prompt_question_2 = \", and last move is \""
   ]
  },
  {
   "cell_type": "code",
   "execution_count": 19,
   "id": "7bd640e4",
   "metadata": {},
   "outputs": [
    {
     "name": "stdout",
     "output_type": "stream",
     "text": [
      "in a paragraph, explain the rationale behind the last move, where all previous moves are:d4 d5 Nc3 Nf6 Bf4 Bf5 Nf3 e6 e3 Be7 Bb5+ c6 Bd3 Bxd3 Qxd3 O-O Bg5 Ng4, and last move is Bxe7\n",
      "\n",
      "The last move, Bxe7, was played to exchange the bishop on e7 for the knight on d8. By doing this, White eliminates Black's knight, which was a strong defender of the king and a potential threat in future attacks. This move also opens up the f-file for White's rook, allowing for potential threats against Black's king. Additionally, by exchanging pieces, White simplifies the position and gains a slight material advantage, ultimately improving their position on the board."
     ]
    }
   ],
   "source": [
    "from openai import OpenAI\n",
    "client = OpenAI(api_key = token)\n",
    "setup  = prompt_question_1 + df.iloc[1_000][\"prev_moves\"] + prompt_question_2 + df.iloc[1_000][\"last_move_fill\"]\n",
    "print(setup)\n",
    "# temp = \"e4 e5 Nf3 Nc6 Bc4 h6 O-O d6 d3 a6 a4 Bg4 Be3 Qf6 h3 Bxf3 gxf3 Be7 f4 exf4 Bd2 f3 Bc3\"\n",
    "stream = client.chat.completions.create(\n",
    "    model=\"gpt-3.5-turbo-0125\",\n",
    "#     model=\"gpt-4\",\n",
    "    messages=[{\"role\": \"user\", \"content\": setup}],\n",
    "    stream=True,\n",
    ")\n",
    "print()\n",
    "for chunk in stream:\n",
    "    if chunk.choices[0].delta.content is not None:\n",
    "        print(chunk.choices[0].delta.content, end=\"\")"
   ]
  },
  {
   "cell_type": "code",
   "execution_count": 6,
   "id": "4e2c3439",
   "metadata": {},
   "outputs": [],
   "source": [
    "import pandas as pd"
   ]
  },
  {
   "cell_type": "code",
   "execution_count": 14,
   "id": "fc2a2769",
   "metadata": {},
   "outputs": [],
   "source": [
    "df = pd.read_csv(\"prev_last_5000.csv\")"
   ]
  },
  {
   "cell_type": "code",
   "execution_count": 15,
   "id": "388f4e2f",
   "metadata": {},
   "outputs": [
    {
     "data": {
      "text/html": [
       "<div>\n",
       "<style scoped>\n",
       "    .dataframe tbody tr th:only-of-type {\n",
       "        vertical-align: middle;\n",
       "    }\n",
       "\n",
       "    .dataframe tbody tr th {\n",
       "        vertical-align: top;\n",
       "    }\n",
       "\n",
       "    .dataframe thead th {\n",
       "        text-align: right;\n",
       "    }\n",
       "</style>\n",
       "<table border=\"1\" class=\"dataframe\">\n",
       "  <thead>\n",
       "    <tr style=\"text-align: right;\">\n",
       "      <th></th>\n",
       "      <th>Unnamed: 0</th>\n",
       "      <th>prev_moves</th>\n",
       "      <th>last_move_fill</th>\n",
       "    </tr>\n",
       "  </thead>\n",
       "  <tbody>\n",
       "    <tr>\n",
       "      <th>0</th>\n",
       "      <td>0</td>\n",
       "      <td>d4</td>\n",
       "      <td>d4</td>\n",
       "    </tr>\n",
       "    <tr>\n",
       "      <th>1</th>\n",
       "      <td>1</td>\n",
       "      <td>d4</td>\n",
       "      <td>d5</td>\n",
       "    </tr>\n",
       "    <tr>\n",
       "      <th>2</th>\n",
       "      <td>2</td>\n",
       "      <td>d4 d5</td>\n",
       "      <td>c4</td>\n",
       "    </tr>\n",
       "    <tr>\n",
       "      <th>3</th>\n",
       "      <td>3</td>\n",
       "      <td>d4 d5 c4</td>\n",
       "      <td>c6</td>\n",
       "    </tr>\n",
       "    <tr>\n",
       "      <th>4</th>\n",
       "      <td>4</td>\n",
       "      <td>d4 d5 c4 c6</td>\n",
       "      <td>cxd5</td>\n",
       "    </tr>\n",
       "  </tbody>\n",
       "</table>\n",
       "</div>"
      ],
      "text/plain": [
       "   Unnamed: 0   prev_moves last_move_fill\n",
       "0           0           d4             d4\n",
       "1           1           d4             d5\n",
       "2           2        d4 d5             c4\n",
       "3           3     d4 d5 c4             c6\n",
       "4           4  d4 d5 c4 c6           cxd5"
      ]
     },
     "execution_count": 15,
     "metadata": {},
     "output_type": "execute_result"
    }
   ],
   "source": [
    "# df = pd.DataFrame(df[\"progressive_moves\"])\n",
    "# df = pd.DataFrame(df[\"prev_moves\"], df[\"last_move_fill\"])\n",
    "df.head()"
   ]
  },
  {
   "cell_type": "code",
   "execution_count": 13,
   "id": "a1ad594f",
   "metadata": {},
   "outputs": [
    {
     "data": {
      "text/plain": [
       "'e4 e5 Nf3 Nc6 Bb5 a6 Bxc6 dxc6 Nxe5 Qd4 Nf3 Qxe4+ Qe2 Qxe2+ Kxe2 Nf6 d4 c5 c3 cxd4 cxd4 Bb4 Rd1 O-O a3 Re8+ Kf1 Bd6 Nc3 Ng4 h3 Nh2+ Nxh2 Bxh2 d5 Re5 g3 Rf5 Kg2 Rf6 Kxh2 Rxf2+ Kg1 Rf3 Rf1 Rxf1+ Kxf1 Bxh3+ Kg1 Rd8 Bf4 c6 d6 g5 Kh2 gxf4 Kxh3 fxg3 Rd1 Kg7 Kxg3 Kf6 Ne4+ Ke5 Ng5 Kf6 Nxh7+ Kg6 Rh1 Rh8 d7 Rg8 Kg4 Kg7 Ng5 Kf6 Rh6+ Ke5 Rh7 f6 Re7+ Kd6 Re8 Rxg5+ Kf4 Re5 d8=Q+ Kc5 Rxe5+ fxe5+ Kxe5 Kc4 Qb8 Kb3'"
      ]
     },
     "execution_count": 13,
     "metadata": {},
     "output_type": "execute_result"
    }
   ],
   "source": [
    "# df.iloc[12_000][\"progressive_moves\"]"
   ]
  },
  {
   "cell_type": "code",
   "execution_count": 20,
   "id": "a8846f11",
   "metadata": {},
   "outputs": [
    {
     "data": {
      "text/plain": [
       "(5000, 3)"
      ]
     },
     "execution_count": 20,
     "metadata": {},
     "output_type": "execute_result"
    }
   ],
   "source": [
    "df.shape"
   ]
  },
  {
   "cell_type": "code",
   "execution_count": 21,
   "id": "f4c3584c",
   "metadata": {},
   "outputs": [
    {
     "data": {
      "text/plain": [
       "(5000, 4)"
      ]
     },
     "execution_count": 21,
     "metadata": {},
     "output_type": "execute_result"
    }
   ],
   "source": [
    "df[\"explanation\"] = \"\"\n",
    "df.shape"
   ]
  },
  {
   "cell_type": "code",
   "execution_count": 23,
   "id": "63e157ce",
   "metadata": {},
   "outputs": [
    {
     "data": {
      "text/html": [
       "<div>\n",
       "<style scoped>\n",
       "    .dataframe tbody tr th:only-of-type {\n",
       "        vertical-align: middle;\n",
       "    }\n",
       "\n",
       "    .dataframe tbody tr th {\n",
       "        vertical-align: top;\n",
       "    }\n",
       "\n",
       "    .dataframe thead th {\n",
       "        text-align: right;\n",
       "    }\n",
       "</style>\n",
       "<table border=\"1\" class=\"dataframe\">\n",
       "  <thead>\n",
       "    <tr style=\"text-align: right;\">\n",
       "      <th></th>\n",
       "      <th>Unnamed: 0</th>\n",
       "      <th>prev_moves</th>\n",
       "      <th>last_move_fill</th>\n",
       "      <th>explanation</th>\n",
       "    </tr>\n",
       "  </thead>\n",
       "  <tbody>\n",
       "    <tr>\n",
       "      <th>4995</th>\n",
       "      <td>4995</td>\n",
       "      <td>d4 Nf6 Nf3 e6 e3 b6 Bd3 Bb7 c4 c5 Qc2</td>\n",
       "      <td>Bxf3</td>\n",
       "      <td></td>\n",
       "    </tr>\n",
       "    <tr>\n",
       "      <th>4996</th>\n",
       "      <td>4996</td>\n",
       "      <td>d4 Nf6 Nf3 e6 e3 b6 Bd3 Bb7 c4 c5 Qc2 Bxf3</td>\n",
       "      <td>gxf3</td>\n",
       "      <td></td>\n",
       "    </tr>\n",
       "    <tr>\n",
       "      <th>4997</th>\n",
       "      <td>4997</td>\n",
       "      <td>d4 Nf6 Nf3 e6 e3 b6 Bd3 Bb7 c4 c5 Qc2 Bxf3 gxf3</td>\n",
       "      <td>cxd4</td>\n",
       "      <td></td>\n",
       "    </tr>\n",
       "    <tr>\n",
       "      <th>4998</th>\n",
       "      <td>4998</td>\n",
       "      <td>d4 Nf6 Nf3 e6 e3 b6 Bd3 Bb7 c4 c5 Qc2 Bxf3 gxf...</td>\n",
       "      <td>exd4</td>\n",
       "      <td></td>\n",
       "    </tr>\n",
       "    <tr>\n",
       "      <th>4999</th>\n",
       "      <td>4999</td>\n",
       "      <td>d4 Nf6 Nf3 e6 e3 b6 Bd3 Bb7 c4 c5 Qc2 Bxf3 gxf...</td>\n",
       "      <td>Nc6</td>\n",
       "      <td></td>\n",
       "    </tr>\n",
       "  </tbody>\n",
       "</table>\n",
       "</div>"
      ],
      "text/plain": [
       "      Unnamed: 0                                         prev_moves  \\\n",
       "4995        4995              d4 Nf6 Nf3 e6 e3 b6 Bd3 Bb7 c4 c5 Qc2   \n",
       "4996        4996         d4 Nf6 Nf3 e6 e3 b6 Bd3 Bb7 c4 c5 Qc2 Bxf3   \n",
       "4997        4997    d4 Nf6 Nf3 e6 e3 b6 Bd3 Bb7 c4 c5 Qc2 Bxf3 gxf3   \n",
       "4998        4998  d4 Nf6 Nf3 e6 e3 b6 Bd3 Bb7 c4 c5 Qc2 Bxf3 gxf...   \n",
       "4999        4999  d4 Nf6 Nf3 e6 e3 b6 Bd3 Bb7 c4 c5 Qc2 Bxf3 gxf...   \n",
       "\n",
       "     last_move_fill explanation  \n",
       "4995           Bxf3              \n",
       "4996           gxf3              \n",
       "4997           cxd4              \n",
       "4998           exd4              \n",
       "4999            Nc6              "
      ]
     },
     "execution_count": 23,
     "metadata": {},
     "output_type": "execute_result"
    }
   ],
   "source": [
    "df.tail()"
   ]
  },
  {
   "cell_type": "code",
   "execution_count": 58,
   "id": "822621a5",
   "metadata": {},
   "outputs": [],
   "source": [
    "# df_prompt.at[0, \"explanation\"] = \"checking\"\n",
    "# df_prompt"
   ]
  },
  {
   "cell_type": "code",
   "execution_count": null,
   "id": "d73da513",
   "metadata": {},
   "outputs": [],
   "source": [
    "for i in range(5000):\n",
    "    stream = client.chat.completions.create(\n",
    "    model=\"gpt-3.5-turbo-0125\",\n",
    "    messages=[{\"role\": \"user\", \n",
    "               \"content\": prompt_question_1 + df.iloc[i][\"prev_moves\"] + prompt_question_2 + df.iloc[i][\"last_move_fill\"]\n",
    "              }],\n",
    "    stream=True)\n",
    "    \n",
    "    explanation = \"\"\n",
    "    for chunk in stream:\n",
    "        if chunk.choices[0].delta.content is not None:\n",
    "            explanation += chunk.choices[0].delta.content\n",
    "            \n",
    "    df.at[i, \"explanation\"] = explanation\n",
    "    \n",
    "    # every 100 will output\n",
    "    if (i+1)/100 == 0:\n",
    "        print(f\"{i}. {df.iloc[i]['prev_moves']}--{df.iloc[i]['last_move_fill']}, explanation: {explanation}\")"
   ]
  },
  {
   "cell_type": "code",
   "execution_count": null,
   "id": "4f29a9bf",
   "metadata": {},
   "outputs": [],
   "source": [
    "# df_prompt.iloc[50]"
   ]
  },
  {
   "cell_type": "code",
   "execution_count": null,
   "id": "fb714608",
   "metadata": {},
   "outputs": [],
   "source": [
    "# df_prompt.to_csv(\"few_exp.csv\")"
   ]
  },
  {
   "cell_type": "code",
   "execution_count": null,
   "id": "10760930",
   "metadata": {},
   "outputs": [],
   "source": [
    "df.to_csv(\"div_move_exp_5000.csv\")"
   ]
  }
 ],
 "metadata": {
  "kernelspec": {
   "display_name": "Python 3 (ipykernel)",
   "language": "python",
   "name": "python3"
  },
  "language_info": {
   "codemirror_mode": {
    "name": "ipython",
    "version": 3
   },
   "file_extension": ".py",
   "mimetype": "text/x-python",
   "name": "python",
   "nbconvert_exporter": "python",
   "pygments_lexer": "ipython3",
   "version": "3.8.17"
  }
 },
 "nbformat": 4,
 "nbformat_minor": 5
}
